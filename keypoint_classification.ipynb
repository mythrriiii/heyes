{
 "cells": [
  {
   "cell_type": "code",
   "execution_count": 1,
   "metadata": {},
   "outputs": [],
   "source": [
    "import csv\n",
    "\n",
    "import numpy as np\n",
    "import tensorflow as tf\n",
    "from sklearn.model_selection import train_test_split\n",
    "\n",
    "RANDOM_SEED = 42"
   ]
  },
  {
   "cell_type": "markdown",
   "metadata": {},
   "source": [
    "# 各パス指定"
   ]
  },
  {
   "cell_type": "code",
   "execution_count": 2,
   "metadata": {},
   "outputs": [],
   "source": [
    "dataset = 'model/keypoint_classifier/keypoint.csv'\n",
    "model_save_path = 'model/keypoint_classifier/keypoint_classifier.hdf5'"
   ]
  },
  {
   "cell_type": "markdown",
   "metadata": {},
   "source": [
    "# 分類数設定"
   ]
  },
  {
   "cell_type": "code",
   "execution_count": 3,
   "metadata": {},
   "outputs": [],
   "source": [
    "NUM_CLASSES = 10"
   ]
  },
  {
   "cell_type": "markdown",
   "metadata": {},
   "source": [
    "# 学習データ読み込み"
   ]
  },
  {
   "cell_type": "code",
   "execution_count": 4,
   "metadata": {},
   "outputs": [],
   "source": [
    "X_dataset = np.loadtxt(dataset, delimiter=',', dtype='float32', usecols=list(range(1, (21 * 2) + 1)))"
   ]
  },
  {
   "cell_type": "code",
   "execution_count": 5,
   "metadata": {},
   "outputs": [],
   "source": [
    "y_dataset = np.loadtxt(dataset, delimiter=',', dtype='int32', usecols=(0))"
   ]
  },
  {
   "cell_type": "code",
   "execution_count": 6,
   "metadata": {},
   "outputs": [],
   "source": [
    "X_train, X_test, y_train, y_test = train_test_split(X_dataset, y_dataset, train_size=0.75, random_state=RANDOM_SEED)"
   ]
  },
  {
   "cell_type": "markdown",
   "metadata": {},
   "source": [
    "# モデル構築"
   ]
  },
  {
   "cell_type": "code",
   "execution_count": 7,
   "metadata": {},
   "outputs": [],
   "source": [
    "model = tf.keras.models.Sequential([\n",
    "    tf.keras.layers.Input((21 * 2, )),\n",
    "    tf.keras.layers.Dropout(0.2),\n",
    "    tf.keras.layers.Dense(20, activation='relu'),\n",
    "    tf.keras.layers.Dropout(0.4),\n",
    "    tf.keras.layers.Dense(10, activation='relu'),\n",
    "    tf.keras.layers.Dense(NUM_CLASSES, activation='softmax')\n",
    "])"
   ]
  },
  {
   "cell_type": "code",
   "execution_count": 8,
   "metadata": {},
   "outputs": [
    {
     "name": "stdout",
     "output_type": "stream",
     "text": [
      "Model: \"sequential\"\n",
      "_________________________________________________________________\n",
      " Layer (type)                Output Shape              Param #   \n",
      "=================================================================\n",
      " dropout (Dropout)           (None, 42)                0         \n",
      "                                                                 \n",
      " dense (Dense)               (None, 20)                860       \n",
      "                                                                 \n",
      " dropout_1 (Dropout)         (None, 20)                0         \n",
      "                                                                 \n",
      " dense_1 (Dense)             (None, 10)                210       \n",
      "                                                                 \n",
      " dense_2 (Dense)             (None, 10)                110       \n",
      "                                                                 \n",
      "=================================================================\n",
      "Total params: 1,180\n",
      "Trainable params: 1,180\n",
      "Non-trainable params: 0\n",
      "_________________________________________________________________\n"
     ]
    }
   ],
   "source": [
    "model.summary()  # tf.keras.utils.plot_model(model, show_shapes=True)"
   ]
  },
  {
   "cell_type": "code",
   "execution_count": 9,
   "metadata": {},
   "outputs": [],
   "source": [
    "# モデルチェックポイントのコールバック\n",
    "cp_callback = tf.keras.callbacks.ModelCheckpoint(\n",
    "    model_save_path, verbose=1, save_weights_only=False)\n",
    "# 早期打ち切り用コールバック\n",
    "es_callback = tf.keras.callbacks.EarlyStopping(patience=20, verbose=1)"
   ]
  },
  {
   "cell_type": "code",
   "execution_count": 10,
   "metadata": {},
   "outputs": [],
   "source": [
    "# モデルコンパイル\n",
    "model.compile(\n",
    "    optimizer='adam',\n",
    "    loss='sparse_categorical_crossentropy',\n",
    "    metrics=['accuracy']\n",
    ")"
   ]
  },
  {
   "cell_type": "markdown",
   "metadata": {},
   "source": [
    "# モデル訓練"
   ]
  },
  {
   "cell_type": "code",
   "execution_count": 11,
   "metadata": {
    "scrolled": true
   },
   "outputs": [
    {
     "name": "stdout",
     "output_type": "stream",
     "text": [
      "Epoch 1/1000\n",
      "25/42 [================>.............] - ETA: 0s - loss: 2.3164 - accuracy: 0.1047 \n",
      "Epoch 1: saving model to model/keypoint_classifier\\keypoint_classifier.hdf5\n",
      "42/42 [==============================] - 1s 8ms/step - loss: 2.3074 - accuracy: 0.1173 - val_loss: 2.2762 - val_accuracy: 0.1746\n",
      "Epoch 2/1000\n",
      "26/42 [=================>............] - ETA: 0s - loss: 2.2740 - accuracy: 0.1508\n",
      "Epoch 2: saving model to model/keypoint_classifier\\keypoint_classifier.hdf5\n",
      "42/42 [==============================] - 0s 3ms/step - loss: 2.2654 - accuracy: 0.1542 - val_loss: 2.2243 - val_accuracy: 0.2908\n",
      "Epoch 3/1000\n",
      "27/42 [==================>...........] - ETA: 0s - loss: 2.2333 - accuracy: 0.1907\n",
      "Epoch 3: saving model to model/keypoint_classifier\\keypoint_classifier.hdf5\n",
      "42/42 [==============================] - 0s 3ms/step - loss: 2.2248 - accuracy: 0.1948 - val_loss: 2.1533 - val_accuracy: 0.3296\n",
      "Epoch 4/1000\n",
      "20/42 [=============>................] - ETA: 0s - loss: 2.1868 - accuracy: 0.2078\n",
      "Epoch 4: saving model to model/keypoint_classifier\\keypoint_classifier.hdf5\n",
      "42/42 [==============================] - 0s 3ms/step - loss: 2.1679 - accuracy: 0.2128 - val_loss: 2.0708 - val_accuracy: 0.3358\n",
      "Epoch 5/1000\n",
      "29/42 [===================>..........] - ETA: 0s - loss: 2.1209 - accuracy: 0.2384\n",
      "Epoch 5: saving model to model/keypoint_classifier\\keypoint_classifier.hdf5\n",
      "42/42 [==============================] - 0s 3ms/step - loss: 2.1100 - accuracy: 0.2379 - val_loss: 1.9829 - val_accuracy: 0.3487\n",
      "Epoch 6/1000\n",
      "33/42 [======================>.......] - ETA: 0s - loss: 2.0541 - accuracy: 0.2427\n",
      "Epoch 6: saving model to model/keypoint_classifier\\keypoint_classifier.hdf5\n",
      "42/42 [==============================] - 0s 3ms/step - loss: 2.0506 - accuracy: 0.2459 - val_loss: 1.8871 - val_accuracy: 0.3605\n",
      "Epoch 7/1000\n",
      "34/42 [=======================>......] - ETA: 0s - loss: 1.9871 - accuracy: 0.2601\n",
      "Epoch 7: saving model to model/keypoint_classifier\\keypoint_classifier.hdf5\n",
      "42/42 [==============================] - 0s 3ms/step - loss: 1.9794 - accuracy: 0.2624 - val_loss: 1.7826 - val_accuracy: 0.4189\n",
      "Epoch 8/1000\n",
      "34/42 [=======================>......] - ETA: 0s - loss: 1.9188 - accuracy: 0.2898\n",
      "Epoch 8: saving model to model/keypoint_classifier\\keypoint_classifier.hdf5\n",
      "42/42 [==============================] - 0s 3ms/step - loss: 1.9031 - accuracy: 0.3000 - val_loss: 1.6800 - val_accuracy: 0.4593\n",
      "Epoch 9/1000\n",
      "34/42 [=======================>......] - ETA: 0s - loss: 1.8451 - accuracy: 0.3254\n",
      "Epoch 9: saving model to model/keypoint_classifier\\keypoint_classifier.hdf5\n",
      "42/42 [==============================] - 0s 3ms/step - loss: 1.8360 - accuracy: 0.3279 - val_loss: 1.5620 - val_accuracy: 0.5385\n",
      "Epoch 10/1000\n",
      "30/42 [====================>.........] - ETA: 0s - loss: 1.7787 - accuracy: 0.3505\n",
      "Epoch 10: saving model to model/keypoint_classifier\\keypoint_classifier.hdf5\n",
      "42/42 [==============================] - 0s 3ms/step - loss: 1.7749 - accuracy: 0.3487 - val_loss: 1.4664 - val_accuracy: 0.5643\n",
      "Epoch 11/1000\n",
      "36/42 [========================>.....] - ETA: 0s - loss: 1.7237 - accuracy: 0.3776\n",
      "Epoch 11: saving model to model/keypoint_classifier\\keypoint_classifier.hdf5\n",
      "42/42 [==============================] - 0s 3ms/step - loss: 1.7208 - accuracy: 0.3775 - val_loss: 1.3974 - val_accuracy: 0.6289\n",
      "Epoch 12/1000\n",
      "30/42 [====================>.........] - ETA: 0s - loss: 1.6650 - accuracy: 0.3969\n",
      "Epoch 12: saving model to model/keypoint_classifier\\keypoint_classifier.hdf5\n",
      "42/42 [==============================] - 0s 3ms/step - loss: 1.6631 - accuracy: 0.3958 - val_loss: 1.3156 - val_accuracy: 0.6682\n",
      "Epoch 13/1000\n",
      "30/42 [====================>.........] - ETA: 0s - loss: 1.6320 - accuracy: 0.4112\n",
      "Epoch 13: saving model to model/keypoint_classifier\\keypoint_classifier.hdf5\n",
      "42/42 [==============================] - 0s 3ms/step - loss: 1.6268 - accuracy: 0.4103 - val_loss: 1.2537 - val_accuracy: 0.7238\n",
      "Epoch 14/1000\n",
      "33/42 [======================>.......] - ETA: 0s - loss: 1.5999 - accuracy: 0.4299\n",
      "Epoch 14: saving model to model/keypoint_classifier\\keypoint_classifier.hdf5\n",
      "42/42 [==============================] - 0s 3ms/step - loss: 1.5927 - accuracy: 0.4286 - val_loss: 1.2083 - val_accuracy: 0.7647\n",
      "Epoch 15/1000\n",
      "31/42 [=====================>........] - ETA: 0s - loss: 1.5629 - accuracy: 0.4370\n",
      "Epoch 15: saving model to model/keypoint_classifier\\keypoint_classifier.hdf5\n",
      "42/42 [==============================] - 0s 3ms/step - loss: 1.5587 - accuracy: 0.4430 - val_loss: 1.1636 - val_accuracy: 0.7878\n",
      "Epoch 16/1000\n",
      "22/42 [==============>...............] - ETA: 0s - loss: 1.5180 - accuracy: 0.4684\n",
      "Epoch 16: saving model to model/keypoint_classifier\\keypoint_classifier.hdf5\n",
      "42/42 [==============================] - 0s 4ms/step - loss: 1.5030 - accuracy: 0.4701 - val_loss: 1.1017 - val_accuracy: 0.7900\n",
      "Epoch 17/1000\n",
      "30/42 [====================>.........] - ETA: 0s - loss: 1.4778 - accuracy: 0.4706\n",
      "Epoch 17: saving model to model/keypoint_classifier\\keypoint_classifier.hdf5\n",
      "42/42 [==============================] - 0s 3ms/step - loss: 1.4839 - accuracy: 0.4688 - val_loss: 1.0794 - val_accuracy: 0.8018\n",
      "Epoch 18/1000\n",
      "30/42 [====================>.........] - ETA: 0s - loss: 1.4477 - accuracy: 0.4891\n",
      "Epoch 18: saving model to model/keypoint_classifier\\keypoint_classifier.hdf5\n",
      "42/42 [==============================] - 0s 3ms/step - loss: 1.4535 - accuracy: 0.4900 - val_loss: 1.0325 - val_accuracy: 0.8136\n",
      "Epoch 19/1000\n",
      "41/42 [============================>.] - ETA: 0s - loss: 1.4567 - accuracy: 0.4931\n",
      "Epoch 19: saving model to model/keypoint_classifier\\keypoint_classifier.hdf5\n",
      "42/42 [==============================] - 0s 2ms/step - loss: 1.4582 - accuracy: 0.4930 - val_loss: 1.0084 - val_accuracy: 0.8158\n",
      "Epoch 20/1000\n",
      "37/42 [=========================>....] - ETA: 0s - loss: 1.4273 - accuracy: 0.5015\n",
      "Epoch 20: saving model to model/keypoint_classifier\\keypoint_classifier.hdf5\n",
      "42/42 [==============================] - 0s 3ms/step - loss: 1.4297 - accuracy: 0.5020 - val_loss: 0.9777 - val_accuracy: 0.8220\n",
      "Epoch 21/1000\n",
      "30/42 [====================>.........] - ETA: 0s - loss: 1.4190 - accuracy: 0.5198\n",
      "Epoch 21: saving model to model/keypoint_classifier\\keypoint_classifier.hdf5\n",
      "42/42 [==============================] - 0s 3ms/step - loss: 1.4217 - accuracy: 0.5158 - val_loss: 0.9654 - val_accuracy: 0.8271\n",
      "Epoch 22/1000\n",
      "30/42 [====================>.........] - ETA: 0s - loss: 1.3718 - accuracy: 0.5169\n",
      "Epoch 22: saving model to model/keypoint_classifier\\keypoint_classifier.hdf5\n",
      "42/42 [==============================] - 0s 3ms/step - loss: 1.3668 - accuracy: 0.5244 - val_loss: 0.9236 - val_accuracy: 0.8164\n",
      "Epoch 23/1000\n",
      "30/42 [====================>.........] - ETA: 0s - loss: 1.3860 - accuracy: 0.5232\n",
      "Epoch 23: saving model to model/keypoint_classifier\\keypoint_classifier.hdf5\n",
      "42/42 [==============================] - 0s 3ms/step - loss: 1.3824 - accuracy: 0.5235 - val_loss: 0.9293 - val_accuracy: 0.8400\n",
      "Epoch 24/1000\n",
      "24/42 [================>.............] - ETA: 0s - loss: 1.3381 - accuracy: 0.5348\n",
      "Epoch 24: saving model to model/keypoint_classifier\\keypoint_classifier.hdf5\n",
      "42/42 [==============================] - 0s 4ms/step - loss: 1.3535 - accuracy: 0.5323 - val_loss: 0.9042 - val_accuracy: 0.8321\n",
      "Epoch 25/1000\n",
      "28/42 [===================>..........] - ETA: 0s - loss: 1.3530 - accuracy: 0.5282\n",
      "Epoch 25: saving model to model/keypoint_classifier\\keypoint_classifier.hdf5\n",
      "42/42 [==============================] - 0s 3ms/step - loss: 1.3500 - accuracy: 0.5276 - val_loss: 0.8758 - val_accuracy: 0.8456\n",
      "Epoch 26/1000\n",
      "28/42 [===================>..........] - ETA: 0s - loss: 1.3114 - accuracy: 0.5438\n",
      "Epoch 26: saving model to model/keypoint_classifier\\keypoint_classifier.hdf5\n",
      "42/42 [==============================] - 0s 3ms/step - loss: 1.3176 - accuracy: 0.5454 - val_loss: 0.8668 - val_accuracy: 0.8304\n",
      "Epoch 27/1000\n",
      "37/42 [=========================>....] - ETA: 0s - loss: 1.2980 - accuracy: 0.5509\n",
      "Epoch 27: saving model to model/keypoint_classifier\\keypoint_classifier.hdf5\n",
      "42/42 [==============================] - 0s 3ms/step - loss: 1.3078 - accuracy: 0.5534 - val_loss: 0.8465 - val_accuracy: 0.8439\n",
      "Epoch 28/1000\n"
     ]
    },
    {
     "name": "stdout",
     "output_type": "stream",
     "text": [
      "30/42 [====================>.........] - ETA: 0s - loss: 1.3377 - accuracy: 0.5344\n",
      "Epoch 28: saving model to model/keypoint_classifier\\keypoint_classifier.hdf5\n",
      "42/42 [==============================] - 0s 3ms/step - loss: 1.3216 - accuracy: 0.5411 - val_loss: 0.8461 - val_accuracy: 0.8641\n",
      "Epoch 29/1000\n",
      "26/42 [=================>............] - ETA: 0s - loss: 1.2965 - accuracy: 0.5505\n",
      "Epoch 29: saving model to model/keypoint_classifier\\keypoint_classifier.hdf5\n",
      "42/42 [==============================] - 0s 3ms/step - loss: 1.3076 - accuracy: 0.5471 - val_loss: 0.8262 - val_accuracy: 0.8366\n",
      "Epoch 30/1000\n",
      "35/42 [========================>.....] - ETA: 0s - loss: 1.2874 - accuracy: 0.5609\n",
      "Epoch 30: saving model to model/keypoint_classifier\\keypoint_classifier.hdf5\n",
      "42/42 [==============================] - 0s 3ms/step - loss: 1.2880 - accuracy: 0.5583 - val_loss: 0.8123 - val_accuracy: 0.8636\n",
      "Epoch 31/1000\n",
      "30/42 [====================>.........] - ETA: 0s - loss: 1.2938 - accuracy: 0.5536\n",
      "Epoch 31: saving model to model/keypoint_classifier\\keypoint_classifier.hdf5\n",
      "42/42 [==============================] - 0s 3ms/step - loss: 1.2779 - accuracy: 0.5620 - val_loss: 0.7980 - val_accuracy: 0.8523\n",
      "Epoch 32/1000\n",
      "33/42 [======================>.......] - ETA: 0s - loss: 1.2883 - accuracy: 0.5507\n",
      "Epoch 32: saving model to model/keypoint_classifier\\keypoint_classifier.hdf5\n",
      "42/42 [==============================] - 0s 3ms/step - loss: 1.2945 - accuracy: 0.5519 - val_loss: 0.7892 - val_accuracy: 0.8782\n",
      "Epoch 33/1000\n",
      "26/42 [=================>............] - ETA: 0s - loss: 1.2412 - accuracy: 0.5649\n",
      "Epoch 33: saving model to model/keypoint_classifier\\keypoint_classifier.hdf5\n",
      "42/42 [==============================] - 0s 3ms/step - loss: 1.2440 - accuracy: 0.5624 - val_loss: 0.7712 - val_accuracy: 0.8579\n",
      "Epoch 34/1000\n",
      "28/42 [===================>..........] - ETA: 0s - loss: 1.2499 - accuracy: 0.5661\n",
      "Epoch 34: saving model to model/keypoint_classifier\\keypoint_classifier.hdf5\n",
      "42/42 [==============================] - 0s 3ms/step - loss: 1.2590 - accuracy: 0.5626 - val_loss: 0.7659 - val_accuracy: 0.8602\n",
      "Epoch 35/1000\n",
      "25/42 [================>.............] - ETA: 0s - loss: 1.2438 - accuracy: 0.5694\n",
      "Epoch 35: saving model to model/keypoint_classifier\\keypoint_classifier.hdf5\n",
      "42/42 [==============================] - 0s 4ms/step - loss: 1.2405 - accuracy: 0.5692 - val_loss: 0.7568 - val_accuracy: 0.8563\n",
      "Epoch 36/1000\n",
      "32/42 [=====================>........] - ETA: 0s - loss: 1.2507 - accuracy: 0.5671\n",
      "Epoch 36: saving model to model/keypoint_classifier\\keypoint_classifier.hdf5\n",
      "42/42 [==============================] - 0s 3ms/step - loss: 1.2438 - accuracy: 0.5692 - val_loss: 0.7470 - val_accuracy: 0.8787\n",
      "Epoch 37/1000\n",
      "40/42 [===========================>..] - ETA: 0s - loss: 1.2197 - accuracy: 0.5779\n",
      "Epoch 37: saving model to model/keypoint_classifier\\keypoint_classifier.hdf5\n",
      "42/42 [==============================] - 0s 2ms/step - loss: 1.2233 - accuracy: 0.5759 - val_loss: 0.7553 - val_accuracy: 0.8501\n",
      "Epoch 38/1000\n",
      "41/42 [============================>.] - ETA: 0s - loss: 1.2128 - accuracy: 0.5804\n",
      "Epoch 38: saving model to model/keypoint_classifier\\keypoint_classifier.hdf5\n",
      "42/42 [==============================] - 0s 2ms/step - loss: 1.2120 - accuracy: 0.5806 - val_loss: 0.7419 - val_accuracy: 0.8641\n",
      "Epoch 39/1000\n",
      "29/42 [===================>..........] - ETA: 0s - loss: 1.2160 - accuracy: 0.5762\n",
      "Epoch 39: saving model to model/keypoint_classifier\\keypoint_classifier.hdf5\n",
      "42/42 [==============================] - 0s 3ms/step - loss: 1.2148 - accuracy: 0.5736 - val_loss: 0.7325 - val_accuracy: 0.8905\n",
      "Epoch 40/1000\n",
      "29/42 [===================>..........] - ETA: 0s - loss: 1.2088 - accuracy: 0.5824\n",
      "Epoch 40: saving model to model/keypoint_classifier\\keypoint_classifier.hdf5\n",
      "42/42 [==============================] - 0s 3ms/step - loss: 1.2174 - accuracy: 0.5800 - val_loss: 0.7408 - val_accuracy: 0.8518\n",
      "Epoch 41/1000\n",
      "27/42 [==================>...........] - ETA: 0s - loss: 1.1869 - accuracy: 0.5888\n",
      "Epoch 41: saving model to model/keypoint_classifier\\keypoint_classifier.hdf5\n",
      "42/42 [==============================] - 0s 8ms/step - loss: 1.2008 - accuracy: 0.5821 - val_loss: 0.7181 - val_accuracy: 0.8529\n",
      "Epoch 42/1000\n",
      "21/42 [==============>...............] - ETA: 0s - loss: 1.2336 - accuracy: 0.5703\n",
      "Epoch 42: saving model to model/keypoint_classifier\\keypoint_classifier.hdf5\n",
      "42/42 [==============================] - 0s 3ms/step - loss: 1.2209 - accuracy: 0.5735 - val_loss: 0.7238 - val_accuracy: 0.8855\n",
      "Epoch 43/1000\n",
      "39/42 [==========================>...] - ETA: 0s - loss: 1.1974 - accuracy: 0.5819\n",
      "Epoch 43: saving model to model/keypoint_classifier\\keypoint_classifier.hdf5\n",
      "42/42 [==============================] - 0s 3ms/step - loss: 1.1920 - accuracy: 0.5849 - val_loss: 0.7069 - val_accuracy: 0.8843\n",
      "Epoch 44/1000\n",
      "27/42 [==================>...........] - ETA: 0s - loss: 1.1916 - accuracy: 0.5828\n",
      "Epoch 44: saving model to model/keypoint_classifier\\keypoint_classifier.hdf5\n",
      "42/42 [==============================] - 0s 3ms/step - loss: 1.2000 - accuracy: 0.5802 - val_loss: 0.7082 - val_accuracy: 0.8529\n",
      "Epoch 45/1000\n",
      "33/42 [======================>.......] - ETA: 0s - loss: 1.2041 - accuracy: 0.5767\n",
      "Epoch 45: saving model to model/keypoint_classifier\\keypoint_classifier.hdf5\n",
      "42/42 [==============================] - 0s 2ms/step - loss: 1.2035 - accuracy: 0.5776 - val_loss: 0.6970 - val_accuracy: 0.8636\n",
      "Epoch 46/1000\n",
      "31/42 [=====================>........] - ETA: 0s - loss: 1.1764 - accuracy: 0.5897\n",
      "Epoch 46: saving model to model/keypoint_classifier\\keypoint_classifier.hdf5\n",
      "42/42 [==============================] - 0s 3ms/step - loss: 1.1796 - accuracy: 0.5860 - val_loss: 0.6896 - val_accuracy: 0.8793\n",
      "Epoch 47/1000\n",
      "32/42 [=====================>........] - ETA: 0s - loss: 1.2026 - accuracy: 0.5815\n",
      "Epoch 47: saving model to model/keypoint_classifier\\keypoint_classifier.hdf5\n",
      "42/42 [==============================] - 0s 3ms/step - loss: 1.1951 - accuracy: 0.5824 - val_loss: 0.7012 - val_accuracy: 0.8568\n",
      "Epoch 48/1000\n",
      "28/42 [===================>..........] - ETA: 0s - loss: 1.1775 - accuracy: 0.5882\n",
      "Epoch 48: saving model to model/keypoint_classifier\\keypoint_classifier.hdf5\n",
      "42/42 [==============================] - 0s 4ms/step - loss: 1.1819 - accuracy: 0.5916 - val_loss: 0.6799 - val_accuracy: 0.9017\n",
      "Epoch 49/1000\n",
      "27/42 [==================>...........] - ETA: 0s - loss: 1.1765 - accuracy: 0.5744\n",
      "Epoch 49: saving model to model/keypoint_classifier\\keypoint_classifier.hdf5\n",
      "42/42 [==============================] - 0s 4ms/step - loss: 1.1847 - accuracy: 0.5780 - val_loss: 0.6875 - val_accuracy: 0.8692\n",
      "Epoch 50/1000\n",
      "28/42 [===================>..........] - ETA: 0s - loss: 1.1640 - accuracy: 0.5851\n",
      "Epoch 50: saving model to model/keypoint_classifier\\keypoint_classifier.hdf5\n",
      "42/42 [==============================] - 0s 3ms/step - loss: 1.1743 - accuracy: 0.5897 - val_loss: 0.6837 - val_accuracy: 0.8574\n",
      "Epoch 51/1000\n",
      "26/42 [=================>............] - ETA: 0s - loss: 1.1522 - accuracy: 0.5913\n",
      "Epoch 51: saving model to model/keypoint_classifier\\keypoint_classifier.hdf5\n",
      "42/42 [==============================] - 0s 3ms/step - loss: 1.1526 - accuracy: 0.5927 - val_loss: 0.6734 - val_accuracy: 0.8843\n",
      "Epoch 52/1000\n",
      "36/42 [========================>.....] - ETA: 0s - loss: 1.1490 - accuracy: 0.5970\n",
      "Epoch 52: saving model to model/keypoint_classifier\\keypoint_classifier.hdf5\n",
      "42/42 [==============================] - 0s 3ms/step - loss: 1.1582 - accuracy: 0.5929 - val_loss: 0.6724 - val_accuracy: 0.8950\n",
      "Epoch 53/1000\n",
      "37/42 [=========================>....] - ETA: 0s - loss: 1.1328 - accuracy: 0.6130\n",
      "Epoch 53: saving model to model/keypoint_classifier\\keypoint_classifier.hdf5\n",
      "42/42 [==============================] - 0s 3ms/step - loss: 1.1334 - accuracy: 0.6120 - val_loss: 0.6647 - val_accuracy: 0.8669\n",
      "Epoch 54/1000\n",
      "28/42 [===================>..........] - ETA: 0s - loss: 1.1566 - accuracy: 0.5848\n",
      "Epoch 54: saving model to model/keypoint_classifier\\keypoint_classifier.hdf5\n",
      "42/42 [==============================] - 0s 11ms/step - loss: 1.1424 - accuracy: 0.5881 - val_loss: 0.6607 - val_accuracy: 0.8877\n",
      "Epoch 55/1000\n"
     ]
    },
    {
     "name": "stdout",
     "output_type": "stream",
     "text": [
      "32/42 [=====================>........] - ETA: 0s - loss: 1.1529 - accuracy: 0.6064\n",
      "Epoch 55: saving model to model/keypoint_classifier\\keypoint_classifier.hdf5\n",
      "42/42 [==============================] - 0s 3ms/step - loss: 1.1411 - accuracy: 0.6075 - val_loss: 0.6596 - val_accuracy: 0.8911\n",
      "Epoch 56/1000\n",
      "26/42 [=================>............] - ETA: 0s - loss: 1.1546 - accuracy: 0.5904\n",
      "Epoch 56: saving model to model/keypoint_classifier\\keypoint_classifier.hdf5\n",
      "42/42 [==============================] - 0s 4ms/step - loss: 1.1479 - accuracy: 0.5940 - val_loss: 0.6532 - val_accuracy: 0.8798\n",
      "Epoch 57/1000\n",
      "33/42 [======================>.......] - ETA: 0s - loss: 1.1188 - accuracy: 0.6058\n",
      "Epoch 57: saving model to model/keypoint_classifier\\keypoint_classifier.hdf5\n",
      "42/42 [==============================] - 0s 3ms/step - loss: 1.1136 - accuracy: 0.6083 - val_loss: 0.6547 - val_accuracy: 0.8725\n",
      "Epoch 58/1000\n",
      "34/42 [=======================>......] - ETA: 0s - loss: 1.1128 - accuracy: 0.6204\n",
      "Epoch 58: saving model to model/keypoint_classifier\\keypoint_classifier.hdf5\n",
      "42/42 [==============================] - 0s 3ms/step - loss: 1.1166 - accuracy: 0.6189 - val_loss: 0.6570 - val_accuracy: 0.8714\n",
      "Epoch 59/1000\n",
      "31/42 [=====================>........] - ETA: 0s - loss: 1.1047 - accuracy: 0.6192\n",
      "Epoch 59: saving model to model/keypoint_classifier\\keypoint_classifier.hdf5\n",
      "42/42 [==============================] - 0s 3ms/step - loss: 1.1031 - accuracy: 0.6189 - val_loss: 0.6431 - val_accuracy: 0.8843\n",
      "Epoch 60/1000\n",
      "28/42 [===================>..........] - ETA: 0s - loss: 1.1058 - accuracy: 0.6164\n",
      "Epoch 60: saving model to model/keypoint_classifier\\keypoint_classifier.hdf5\n",
      "42/42 [==============================] - 0s 4ms/step - loss: 1.1187 - accuracy: 0.6111 - val_loss: 0.6412 - val_accuracy: 0.8821\n",
      "Epoch 61/1000\n",
      "23/42 [===============>..............] - ETA: 0s - loss: 1.0944 - accuracy: 0.6162\n",
      "Epoch 61: saving model to model/keypoint_classifier\\keypoint_classifier.hdf5\n",
      "42/42 [==============================] - 0s 4ms/step - loss: 1.1054 - accuracy: 0.6182 - val_loss: 0.6435 - val_accuracy: 0.8911\n",
      "Epoch 62/1000\n",
      "27/42 [==================>...........] - ETA: 0s - loss: 1.1086 - accuracy: 0.6146\n",
      "Epoch 62: saving model to model/keypoint_classifier\\keypoint_classifier.hdf5\n",
      "42/42 [==============================] - 0s 4ms/step - loss: 1.1032 - accuracy: 0.6130 - val_loss: 0.6275 - val_accuracy: 0.8916\n",
      "Epoch 63/1000\n",
      "23/42 [===============>..............] - ETA: 0s - loss: 1.1146 - accuracy: 0.6107\n",
      "Epoch 63: saving model to model/keypoint_classifier\\keypoint_classifier.hdf5\n",
      "42/42 [==============================] - 0s 4ms/step - loss: 1.0887 - accuracy: 0.6191 - val_loss: 0.6286 - val_accuracy: 0.8843\n",
      "Epoch 64/1000\n",
      "23/42 [===============>..............] - ETA: 0s - loss: 1.1083 - accuracy: 0.6206\n",
      "Epoch 64: saving model to model/keypoint_classifier\\keypoint_classifier.hdf5\n",
      "42/42 [==============================] - 0s 4ms/step - loss: 1.0974 - accuracy: 0.6217 - val_loss: 0.6269 - val_accuracy: 0.8928\n",
      "Epoch 65/1000\n",
      "23/42 [===============>..............] - ETA: 0s - loss: 1.0691 - accuracy: 0.6393\n",
      "Epoch 65: saving model to model/keypoint_classifier\\keypoint_classifier.hdf5\n",
      "42/42 [==============================] - 0s 4ms/step - loss: 1.0807 - accuracy: 0.6270 - val_loss: 0.6171 - val_accuracy: 0.8928\n",
      "Epoch 66/1000\n",
      "26/42 [=================>............] - ETA: 0s - loss: 1.0737 - accuracy: 0.6364\n",
      "Epoch 66: saving model to model/keypoint_classifier\\keypoint_classifier.hdf5\n",
      "42/42 [==============================] - 0s 4ms/step - loss: 1.0792 - accuracy: 0.6345 - val_loss: 0.6128 - val_accuracy: 0.8989\n",
      "Epoch 67/1000\n",
      "27/42 [==================>...........] - ETA: 0s - loss: 1.0763 - accuracy: 0.6253\n",
      "Epoch 67: saving model to model/keypoint_classifier\\keypoint_classifier.hdf5\n",
      "42/42 [==============================] - 0s 5ms/step - loss: 1.0789 - accuracy: 0.6251 - val_loss: 0.6189 - val_accuracy: 0.9057\n",
      "Epoch 68/1000\n",
      "39/42 [==========================>...] - ETA: 0s - loss: 1.0696 - accuracy: 0.6314\n",
      "Epoch 68: saving model to model/keypoint_classifier\\keypoint_classifier.hdf5\n",
      "42/42 [==============================] - 0s 5ms/step - loss: 1.0690 - accuracy: 0.6332 - val_loss: 0.6211 - val_accuracy: 0.9006\n",
      "Epoch 69/1000\n",
      "25/42 [================>.............] - ETA: 0s - loss: 1.0794 - accuracy: 0.6275\n",
      "Epoch 69: saving model to model/keypoint_classifier\\keypoint_classifier.hdf5\n",
      "42/42 [==============================] - 0s 4ms/step - loss: 1.0682 - accuracy: 0.6328 - val_loss: 0.6126 - val_accuracy: 0.8899\n",
      "Epoch 70/1000\n",
      "24/42 [================>.............] - ETA: 0s - loss: 1.0555 - accuracy: 0.6426\n",
      "Epoch 70: saving model to model/keypoint_classifier\\keypoint_classifier.hdf5\n",
      "42/42 [==============================] - 0s 4ms/step - loss: 1.0646 - accuracy: 0.6324 - val_loss: 0.6130 - val_accuracy: 0.8871\n",
      "Epoch 71/1000\n",
      "38/42 [==========================>...] - ETA: 0s - loss: 1.0834 - accuracy: 0.6217\n",
      "Epoch 71: saving model to model/keypoint_classifier\\keypoint_classifier.hdf5\n",
      "42/42 [==============================] - 0s 5ms/step - loss: 1.0793 - accuracy: 0.6236 - val_loss: 0.6180 - val_accuracy: 0.8978\n",
      "Epoch 72/1000\n",
      "22/42 [==============>...............] - ETA: 0s - loss: 1.0663 - accuracy: 0.6396\n",
      "Epoch 72: saving model to model/keypoint_classifier\\keypoint_classifier.hdf5\n",
      "42/42 [==============================] - 0s 4ms/step - loss: 1.0748 - accuracy: 0.6363 - val_loss: 0.6222 - val_accuracy: 0.8815\n",
      "Epoch 73/1000\n",
      "31/42 [=====================>........] - ETA: 0s - loss: 1.0524 - accuracy: 0.6333\n",
      "Epoch 73: saving model to model/keypoint_classifier\\keypoint_classifier.hdf5\n",
      "42/42 [==============================] - 0s 3ms/step - loss: 1.0511 - accuracy: 0.6341 - val_loss: 0.6063 - val_accuracy: 0.9023\n",
      "Epoch 74/1000\n",
      "34/42 [=======================>......] - ETA: 0s - loss: 1.0582 - accuracy: 0.6457\n",
      "Epoch 74: saving model to model/keypoint_classifier\\keypoint_classifier.hdf5\n",
      "42/42 [==============================] - 0s 3ms/step - loss: 1.0563 - accuracy: 0.6435 - val_loss: 0.6095 - val_accuracy: 0.9006\n",
      "Epoch 75/1000\n",
      "27/42 [==================>...........] - ETA: 0s - loss: 1.0560 - accuracy: 0.6427\n",
      "Epoch 75: saving model to model/keypoint_classifier\\keypoint_classifier.hdf5\n",
      "42/42 [==============================] - 0s 3ms/step - loss: 1.0548 - accuracy: 0.6403 - val_loss: 0.6046 - val_accuracy: 0.9062\n",
      "Epoch 76/1000\n",
      "29/42 [===================>..........] - ETA: 0s - loss: 1.0373 - accuracy: 0.6325\n",
      "Epoch 76: saving model to model/keypoint_classifier\\keypoint_classifier.hdf5\n",
      "42/42 [==============================] - 0s 3ms/step - loss: 1.0358 - accuracy: 0.6410 - val_loss: 0.5994 - val_accuracy: 0.9124\n",
      "Epoch 77/1000\n",
      "26/42 [=================>............] - ETA: 0s - loss: 1.0260 - accuracy: 0.6451\n",
      "Epoch 77: saving model to model/keypoint_classifier\\keypoint_classifier.hdf5\n",
      "42/42 [==============================] - 0s 4ms/step - loss: 1.0261 - accuracy: 0.6498 - val_loss: 0.5980 - val_accuracy: 0.8967\n",
      "Epoch 78/1000\n",
      "29/42 [===================>..........] - ETA: 0s - loss: 1.0646 - accuracy: 0.6231\n",
      "Epoch 78: saving model to model/keypoint_classifier\\keypoint_classifier.hdf5\n",
      "42/42 [==============================] - 0s 3ms/step - loss: 1.0569 - accuracy: 0.6290 - val_loss: 0.5965 - val_accuracy: 0.9045\n",
      "Epoch 79/1000\n",
      "30/42 [====================>.........] - ETA: 0s - loss: 1.0685 - accuracy: 0.6307\n",
      "Epoch 79: saving model to model/keypoint_classifier\\keypoint_classifier.hdf5\n",
      "42/42 [==============================] - 0s 4ms/step - loss: 1.0570 - accuracy: 0.6408 - val_loss: 0.6014 - val_accuracy: 0.8944\n",
      "Epoch 80/1000\n",
      "27/42 [==================>...........] - ETA: 0s - loss: 1.0225 - accuracy: 0.6542\n",
      "Epoch 80: saving model to model/keypoint_classifier\\keypoint_classifier.hdf5\n",
      "42/42 [==============================] - 0s 3ms/step - loss: 1.0159 - accuracy: 0.6556 - val_loss: 0.5858 - val_accuracy: 0.9040\n",
      "Epoch 81/1000\n",
      "32/42 [=====================>........] - ETA: 0s - loss: 1.0045 - accuracy: 0.6587\n",
      "Epoch 81: saving model to model/keypoint_classifier\\keypoint_classifier.hdf5\n",
      "42/42 [==============================] - 0s 3ms/step - loss: 1.0169 - accuracy: 0.6549 - val_loss: 0.5914 - val_accuracy: 0.9006\n",
      "Epoch 82/1000\n"
     ]
    },
    {
     "name": "stdout",
     "output_type": "stream",
     "text": [
      "24/42 [================>.............] - ETA: 0s - loss: 1.0306 - accuracy: 0.6361\n",
      "Epoch 82: saving model to model/keypoint_classifier\\keypoint_classifier.hdf5\n",
      "42/42 [==============================] - 0s 3ms/step - loss: 1.0324 - accuracy: 0.6470 - val_loss: 0.5849 - val_accuracy: 0.9023\n",
      "Epoch 83/1000\n",
      "32/42 [=====================>........] - ETA: 0s - loss: 1.0188 - accuracy: 0.6538\n",
      "Epoch 83: saving model to model/keypoint_classifier\\keypoint_classifier.hdf5\n",
      "42/42 [==============================] - 0s 3ms/step - loss: 1.0131 - accuracy: 0.6560 - val_loss: 0.5821 - val_accuracy: 0.8989\n",
      "Epoch 84/1000\n",
      "20/42 [=============>................] - ETA: 0s - loss: 1.0329 - accuracy: 0.6492\n",
      "Epoch 84: saving model to model/keypoint_classifier\\keypoint_classifier.hdf5\n",
      "42/42 [==============================] - 0s 4ms/step - loss: 1.0216 - accuracy: 0.6545 - val_loss: 0.5814 - val_accuracy: 0.9023\n",
      "Epoch 85/1000\n",
      "30/42 [====================>.........] - ETA: 0s - loss: 1.0082 - accuracy: 0.6568\n",
      "Epoch 85: saving model to model/keypoint_classifier\\keypoint_classifier.hdf5\n",
      "42/42 [==============================] - 0s 3ms/step - loss: 1.0052 - accuracy: 0.6571 - val_loss: 0.5811 - val_accuracy: 0.8984\n",
      "Epoch 86/1000\n",
      "26/42 [=================>............] - ETA: 0s - loss: 1.0403 - accuracy: 0.6430\n",
      "Epoch 86: saving model to model/keypoint_classifier\\keypoint_classifier.hdf5\n",
      "42/42 [==============================] - 0s 3ms/step - loss: 1.0221 - accuracy: 0.6506 - val_loss: 0.5875 - val_accuracy: 0.9017\n",
      "Epoch 87/1000\n",
      "40/42 [===========================>..] - ETA: 0s - loss: 1.0190 - accuracy: 0.6457\n",
      "Epoch 87: saving model to model/keypoint_classifier\\keypoint_classifier.hdf5\n",
      "42/42 [==============================] - 0s 5ms/step - loss: 1.0195 - accuracy: 0.6440 - val_loss: 0.5755 - val_accuracy: 0.9079\n",
      "Epoch 88/1000\n",
      "29/42 [===================>..........] - ETA: 0s - loss: 0.9889 - accuracy: 0.6581\n",
      "Epoch 88: saving model to model/keypoint_classifier\\keypoint_classifier.hdf5\n",
      "42/42 [==============================] - 0s 3ms/step - loss: 0.9848 - accuracy: 0.6597 - val_loss: 0.5639 - val_accuracy: 0.9085\n",
      "Epoch 89/1000\n",
      "27/42 [==================>...........] - ETA: 0s - loss: 1.0115 - accuracy: 0.6476\n",
      "Epoch 89: saving model to model/keypoint_classifier\\keypoint_classifier.hdf5\n",
      "42/42 [==============================] - 0s 3ms/step - loss: 1.0048 - accuracy: 0.6502 - val_loss: 0.5798 - val_accuracy: 0.9006\n",
      "Epoch 90/1000\n",
      "29/42 [===================>..........] - ETA: 0s - loss: 0.9998 - accuracy: 0.6568\n",
      "Epoch 90: saving model to model/keypoint_classifier\\keypoint_classifier.hdf5\n",
      "42/42 [==============================] - 0s 3ms/step - loss: 0.9958 - accuracy: 0.6582 - val_loss: 0.5825 - val_accuracy: 0.9040\n",
      "Epoch 91/1000\n",
      "38/42 [==========================>...] - ETA: 0s - loss: 1.0014 - accuracy: 0.6587\n",
      "Epoch 91: saving model to model/keypoint_classifier\\keypoint_classifier.hdf5\n",
      "42/42 [==============================] - 0s 3ms/step - loss: 1.0024 - accuracy: 0.6581 - val_loss: 0.5753 - val_accuracy: 0.9079\n",
      "Epoch 92/1000\n",
      "30/42 [====================>.........] - ETA: 0s - loss: 0.9915 - accuracy: 0.6685\n",
      "Epoch 92: saving model to model/keypoint_classifier\\keypoint_classifier.hdf5\n",
      "42/42 [==============================] - 0s 3ms/step - loss: 0.9986 - accuracy: 0.6644 - val_loss: 0.5685 - val_accuracy: 0.9034\n",
      "Epoch 93/1000\n",
      "33/42 [======================>.......] - ETA: 0s - loss: 1.0197 - accuracy: 0.6567\n",
      "Epoch 93: saving model to model/keypoint_classifier\\keypoint_classifier.hdf5\n",
      "42/42 [==============================] - 0s 3ms/step - loss: 1.0160 - accuracy: 0.6560 - val_loss: 0.5779 - val_accuracy: 0.9001\n",
      "Epoch 94/1000\n",
      "33/42 [======================>.......] - ETA: 0s - loss: 1.0154 - accuracy: 0.6596\n",
      "Epoch 94: saving model to model/keypoint_classifier\\keypoint_classifier.hdf5\n",
      "42/42 [==============================] - 0s 3ms/step - loss: 1.0091 - accuracy: 0.6567 - val_loss: 0.5758 - val_accuracy: 0.9040\n",
      "Epoch 95/1000\n",
      "30/42 [====================>.........] - ETA: 0s - loss: 0.9897 - accuracy: 0.6602\n",
      "Epoch 95: saving model to model/keypoint_classifier\\keypoint_classifier.hdf5\n",
      "42/42 [==============================] - 0s 3ms/step - loss: 1.0027 - accuracy: 0.6558 - val_loss: 0.5823 - val_accuracy: 0.9006\n",
      "Epoch 96/1000\n",
      "33/42 [======================>.......] - ETA: 0s - loss: 0.9549 - accuracy: 0.6690\n",
      "Epoch 96: saving model to model/keypoint_classifier\\keypoint_classifier.hdf5\n",
      "42/42 [==============================] - 0s 3ms/step - loss: 0.9585 - accuracy: 0.6663 - val_loss: 0.5625 - val_accuracy: 0.9074\n",
      "Epoch 97/1000\n",
      "41/42 [============================>.] - ETA: 0s - loss: 0.9714 - accuracy: 0.6625\n",
      "Epoch 97: saving model to model/keypoint_classifier\\keypoint_classifier.hdf5\n",
      "42/42 [==============================] - 0s 3ms/step - loss: 0.9741 - accuracy: 0.6620 - val_loss: 0.5744 - val_accuracy: 0.9045\n",
      "Epoch 98/1000\n",
      "33/42 [======================>.......] - ETA: 0s - loss: 1.0128 - accuracy: 0.6544\n",
      "Epoch 98: saving model to model/keypoint_classifier\\keypoint_classifier.hdf5\n",
      "42/42 [==============================] - 0s 3ms/step - loss: 1.0185 - accuracy: 0.6547 - val_loss: 0.5604 - val_accuracy: 0.9090\n",
      "Epoch 99/1000\n",
      "37/42 [=========================>....] - ETA: 0s - loss: 1.0144 - accuracy: 0.6497\n",
      "Epoch 99: saving model to model/keypoint_classifier\\keypoint_classifier.hdf5\n",
      "42/42 [==============================] - 0s 3ms/step - loss: 1.0115 - accuracy: 0.6508 - val_loss: 0.5761 - val_accuracy: 0.8995\n",
      "Epoch 100/1000\n",
      "41/42 [============================>.] - ETA: 0s - loss: 0.9971 - accuracy: 0.6545\n",
      "Epoch 100: saving model to model/keypoint_classifier\\keypoint_classifier.hdf5\n",
      "42/42 [==============================] - 0s 3ms/step - loss: 0.9968 - accuracy: 0.6545 - val_loss: 0.5677 - val_accuracy: 0.8989\n",
      "Epoch 101/1000\n",
      "29/42 [===================>..........] - ETA: 0s - loss: 0.9652 - accuracy: 0.6732\n",
      "Epoch 101: saving model to model/keypoint_classifier\\keypoint_classifier.hdf5\n",
      "42/42 [==============================] - 0s 3ms/step - loss: 0.9820 - accuracy: 0.6657 - val_loss: 0.5709 - val_accuracy: 0.9034\n",
      "Epoch 102/1000\n",
      "26/42 [=================>............] - ETA: 0s - loss: 0.9751 - accuracy: 0.6752\n",
      "Epoch 102: saving model to model/keypoint_classifier\\keypoint_classifier.hdf5\n",
      "42/42 [==============================] - 0s 3ms/step - loss: 0.9710 - accuracy: 0.6712 - val_loss: 0.5589 - val_accuracy: 0.9040\n",
      "Epoch 103/1000\n",
      "27/42 [==================>...........] - ETA: 0s - loss: 1.0104 - accuracy: 0.6603\n",
      "Epoch 103: saving model to model/keypoint_classifier\\keypoint_classifier.hdf5\n",
      "42/42 [==============================] - 0s 3ms/step - loss: 0.9907 - accuracy: 0.6661 - val_loss: 0.5662 - val_accuracy: 0.9074\n",
      "Epoch 104/1000\n",
      "24/42 [================>.............] - ETA: 0s - loss: 0.9505 - accuracy: 0.6771\n",
      "Epoch 104: saving model to model/keypoint_classifier\\keypoint_classifier.hdf5\n",
      "42/42 [==============================] - 0s 3ms/step - loss: 0.9561 - accuracy: 0.6717 - val_loss: 0.5602 - val_accuracy: 0.9034\n",
      "Epoch 105/1000\n",
      "27/42 [==================>...........] - ETA: 0s - loss: 0.9867 - accuracy: 0.6574\n",
      "Epoch 105: saving model to model/keypoint_classifier\\keypoint_classifier.hdf5\n",
      "42/42 [==============================] - 0s 3ms/step - loss: 0.9865 - accuracy: 0.6614 - val_loss: 0.5596 - val_accuracy: 0.9079\n",
      "Epoch 106/1000\n",
      "34/42 [=======================>......] - ETA: 0s - loss: 0.9769 - accuracy: 0.6625\n",
      "Epoch 106: saving model to model/keypoint_classifier\\keypoint_classifier.hdf5\n",
      "42/42 [==============================] - 0s 3ms/step - loss: 0.9808 - accuracy: 0.6601 - val_loss: 0.5607 - val_accuracy: 0.9074\n",
      "Epoch 107/1000\n",
      "33/42 [======================>.......] - ETA: 0s - loss: 0.9719 - accuracy: 0.6693\n",
      "Epoch 107: saving model to model/keypoint_classifier\\keypoint_classifier.hdf5\n",
      "42/42 [==============================] - 0s 3ms/step - loss: 0.9746 - accuracy: 0.6663 - val_loss: 0.5639 - val_accuracy: 0.9034\n",
      "Epoch 108/1000\n",
      "31/42 [=====================>........] - ETA: 0s - loss: 0.9494 - accuracy: 0.6762\n",
      "Epoch 108: saving model to model/keypoint_classifier\\keypoint_classifier.hdf5\n",
      "42/42 [==============================] - 0s 3ms/step - loss: 0.9432 - accuracy: 0.6768 - val_loss: 0.5590 - val_accuracy: 0.8984\n",
      "Epoch 109/1000\n"
     ]
    },
    {
     "name": "stdout",
     "output_type": "stream",
     "text": [
      "26/42 [=================>............] - ETA: 0s - loss: 0.9438 - accuracy: 0.6815\n",
      "Epoch 109: saving model to model/keypoint_classifier\\keypoint_classifier.hdf5\n",
      "42/42 [==============================] - 0s 4ms/step - loss: 0.9545 - accuracy: 0.6807 - val_loss: 0.5702 - val_accuracy: 0.8961\n",
      "Epoch 110/1000\n",
      "25/42 [================>.............] - ETA: 0s - loss: 1.0083 - accuracy: 0.6497\n",
      "Epoch 110: saving model to model/keypoint_classifier\\keypoint_classifier.hdf5\n",
      "42/42 [==============================] - 0s 4ms/step - loss: 0.9775 - accuracy: 0.6659 - val_loss: 0.5676 - val_accuracy: 0.8995\n",
      "Epoch 111/1000\n",
      "23/42 [===============>..............] - ETA: 0s - loss: 0.9764 - accuracy: 0.6658\n",
      "Epoch 111: saving model to model/keypoint_classifier\\keypoint_classifier.hdf5\n",
      "42/42 [==============================] - 0s 4ms/step - loss: 0.9596 - accuracy: 0.6712 - val_loss: 0.5559 - val_accuracy: 0.9079\n",
      "Epoch 112/1000\n",
      "21/42 [==============>...............] - ETA: 0s - loss: 0.9525 - accuracy: 0.6756\n",
      "Epoch 112: saving model to model/keypoint_classifier\\keypoint_classifier.hdf5\n",
      "42/42 [==============================] - 0s 4ms/step - loss: 0.9543 - accuracy: 0.6757 - val_loss: 0.5472 - val_accuracy: 0.9113\n",
      "Epoch 113/1000\n",
      "29/42 [===================>..........] - ETA: 0s - loss: 0.9499 - accuracy: 0.6786\n",
      "Epoch 113: saving model to model/keypoint_classifier\\keypoint_classifier.hdf5\n",
      "42/42 [==============================] - 0s 4ms/step - loss: 0.9543 - accuracy: 0.6833 - val_loss: 0.5676 - val_accuracy: 0.8972\n",
      "Epoch 114/1000\n",
      "19/42 [============>.................] - ETA: 0s - loss: 0.9762 - accuracy: 0.6739\n",
      "Epoch 114: saving model to model/keypoint_classifier\\keypoint_classifier.hdf5\n",
      "42/42 [==============================] - 0s 4ms/step - loss: 0.9571 - accuracy: 0.6749 - val_loss: 0.5498 - val_accuracy: 0.9057\n",
      "Epoch 115/1000\n",
      "23/42 [===============>..............] - ETA: 0s - loss: 0.9527 - accuracy: 0.6722\n",
      "Epoch 115: saving model to model/keypoint_classifier\\keypoint_classifier.hdf5\n",
      "42/42 [==============================] - 0s 4ms/step - loss: 0.9463 - accuracy: 0.6757 - val_loss: 0.5535 - val_accuracy: 0.8995\n",
      "Epoch 116/1000\n",
      "35/42 [========================>.....] - ETA: 0s - loss: 0.9621 - accuracy: 0.6741\n",
      "Epoch 116: saving model to model/keypoint_classifier\\keypoint_classifier.hdf5\n",
      "42/42 [==============================] - 0s 5ms/step - loss: 0.9664 - accuracy: 0.6717 - val_loss: 0.5430 - val_accuracy: 0.9057\n",
      "Epoch 117/1000\n",
      "25/42 [================>.............] - ETA: 0s - loss: 0.9280 - accuracy: 0.6800\n",
      "Epoch 117: saving model to model/keypoint_classifier\\keypoint_classifier.hdf5\n",
      "42/42 [==============================] - 0s 5ms/step - loss: 0.9588 - accuracy: 0.6760 - val_loss: 0.5618 - val_accuracy: 0.8989\n",
      "Epoch 118/1000\n",
      "23/42 [===============>..............] - ETA: 0s - loss: 0.9699 - accuracy: 0.6695\n",
      "Epoch 118: saving model to model/keypoint_classifier\\keypoint_classifier.hdf5\n",
      "42/42 [==============================] - 0s 4ms/step - loss: 0.9679 - accuracy: 0.6727 - val_loss: 0.5723 - val_accuracy: 0.8972\n",
      "Epoch 119/1000\n",
      "25/42 [================>.............] - ETA: 0s - loss: 0.9482 - accuracy: 0.6747\n",
      "Epoch 119: saving model to model/keypoint_classifier\\keypoint_classifier.hdf5\n",
      "42/42 [==============================] - 0s 4ms/step - loss: 0.9602 - accuracy: 0.6708 - val_loss: 0.5559 - val_accuracy: 0.8961\n",
      "Epoch 120/1000\n",
      "25/42 [================>.............] - ETA: 0s - loss: 0.9779 - accuracy: 0.6672\n",
      "Epoch 120: saving model to model/keypoint_classifier\\keypoint_classifier.hdf5\n",
      "42/42 [==============================] - 0s 4ms/step - loss: 0.9809 - accuracy: 0.6657 - val_loss: 0.5656 - val_accuracy: 0.9040\n",
      "Epoch 121/1000\n",
      "31/42 [=====================>........] - ETA: 0s - loss: 0.9273 - accuracy: 0.6852\n",
      "Epoch 121: saving model to model/keypoint_classifier\\keypoint_classifier.hdf5\n",
      "42/42 [==============================] - 0s 3ms/step - loss: 0.9436 - accuracy: 0.6805 - val_loss: 0.5601 - val_accuracy: 0.8984\n",
      "Epoch 122/1000\n",
      "42/42 [==============================] - ETA: 0s - loss: 0.9539 - accuracy: 0.6766\n",
      "Epoch 122: saving model to model/keypoint_classifier\\keypoint_classifier.hdf5\n",
      "42/42 [==============================] - 0s 3ms/step - loss: 0.9539 - accuracy: 0.6766 - val_loss: 0.5609 - val_accuracy: 0.8928\n",
      "Epoch 123/1000\n",
      "42/42 [==============================] - ETA: 0s - loss: 0.9434 - accuracy: 0.6803\n",
      "Epoch 123: saving model to model/keypoint_classifier\\keypoint_classifier.hdf5\n",
      "42/42 [==============================] - 0s 3ms/step - loss: 0.9434 - accuracy: 0.6803 - val_loss: 0.5560 - val_accuracy: 0.9051\n",
      "Epoch 124/1000\n",
      "34/42 [=======================>......] - ETA: 0s - loss: 0.9485 - accuracy: 0.6815\n",
      "Epoch 124: saving model to model/keypoint_classifier\\keypoint_classifier.hdf5\n",
      "42/42 [==============================] - 0s 3ms/step - loss: 0.9409 - accuracy: 0.6848 - val_loss: 0.5521 - val_accuracy: 0.9029\n",
      "Epoch 125/1000\n",
      "36/42 [========================>.....] - ETA: 0s - loss: 0.9436 - accuracy: 0.6823\n",
      "Epoch 125: saving model to model/keypoint_classifier\\keypoint_classifier.hdf5\n",
      "42/42 [==============================] - 0s 3ms/step - loss: 0.9445 - accuracy: 0.6815 - val_loss: 0.5530 - val_accuracy: 0.9040\n",
      "Epoch 126/1000\n",
      "32/42 [=====================>........] - ETA: 0s - loss: 0.9230 - accuracy: 0.6860\n",
      "Epoch 126: saving model to model/keypoint_classifier\\keypoint_classifier.hdf5\n",
      "42/42 [==============================] - 0s 3ms/step - loss: 0.9226 - accuracy: 0.6888 - val_loss: 0.5552 - val_accuracy: 0.8978\n",
      "Epoch 127/1000\n",
      "25/42 [================>.............] - ETA: 0s - loss: 0.9192 - accuracy: 0.6847\n",
      "Epoch 127: saving model to model/keypoint_classifier\\keypoint_classifier.hdf5\n",
      "42/42 [==============================] - 0s 4ms/step - loss: 0.9309 - accuracy: 0.6803 - val_loss: 0.5562 - val_accuracy: 0.8978\n",
      "Epoch 128/1000\n",
      "35/42 [========================>.....] - ETA: 0s - loss: 0.9457 - accuracy: 0.6786\n",
      "Epoch 128: saving model to model/keypoint_classifier\\keypoint_classifier.hdf5\n",
      "42/42 [==============================] - 0s 9ms/step - loss: 0.9337 - accuracy: 0.6800 - val_loss: 0.5294 - val_accuracy: 0.9118\n",
      "Epoch 129/1000\n",
      "42/42 [==============================] - ETA: 0s - loss: 0.9327 - accuracy: 0.6858\n",
      "Epoch 129: saving model to model/keypoint_classifier\\keypoint_classifier.hdf5\n",
      "42/42 [==============================] - 0s 3ms/step - loss: 0.9327 - accuracy: 0.6858 - val_loss: 0.5575 - val_accuracy: 0.9029\n",
      "Epoch 130/1000\n",
      "39/42 [==========================>...] - ETA: 0s - loss: 0.9342 - accuracy: 0.6807\n",
      "Epoch 130: saving model to model/keypoint_classifier\\keypoint_classifier.hdf5\n",
      "42/42 [==============================] - 0s 2ms/step - loss: 0.9323 - accuracy: 0.6803 - val_loss: 0.5469 - val_accuracy: 0.9040\n",
      "Epoch 131/1000\n",
      "33/42 [======================>.......] - ETA: 0s - loss: 0.9396 - accuracy: 0.6799\n",
      "Epoch 131: saving model to model/keypoint_classifier\\keypoint_classifier.hdf5\n",
      "42/42 [==============================] - 0s 3ms/step - loss: 0.9359 - accuracy: 0.6820 - val_loss: 0.5535 - val_accuracy: 0.8978\n",
      "Epoch 132/1000\n",
      "33/42 [======================>.......] - ETA: 0s - loss: 0.9227 - accuracy: 0.6856\n",
      "Epoch 132: saving model to model/keypoint_classifier\\keypoint_classifier.hdf5\n",
      "42/42 [==============================] - 0s 6ms/step - loss: 0.9263 - accuracy: 0.6824 - val_loss: 0.5398 - val_accuracy: 0.9068\n",
      "Epoch 133/1000\n",
      "33/42 [======================>.......] - ETA: 0s - loss: 0.9252 - accuracy: 0.6842\n",
      "Epoch 133: saving model to model/keypoint_classifier\\keypoint_classifier.hdf5\n",
      "42/42 [==============================] - 0s 3ms/step - loss: 0.9182 - accuracy: 0.6895 - val_loss: 0.5571 - val_accuracy: 0.8995\n",
      "Epoch 134/1000\n",
      "34/42 [=======================>......] - ETA: 0s - loss: 0.9461 - accuracy: 0.6820\n",
      "Epoch 134: saving model to model/keypoint_classifier\\keypoint_classifier.hdf5\n",
      "42/42 [==============================] - 0s 6ms/step - loss: 0.9392 - accuracy: 0.6835 - val_loss: 0.5647 - val_accuracy: 0.9006\n",
      "Epoch 135/1000\n",
      "29/42 [===================>..........] - ETA: 0s - loss: 0.8999 - accuracy: 0.7018\n",
      "Epoch 135: saving model to model/keypoint_classifier\\keypoint_classifier.hdf5\n",
      "42/42 [==============================] - 0s 3ms/step - loss: 0.9058 - accuracy: 0.6975 - val_loss: 0.5480 - val_accuracy: 0.8967\n"
     ]
    },
    {
     "name": "stdout",
     "output_type": "stream",
     "text": [
      "Epoch 136/1000\n",
      "28/42 [===================>..........] - ETA: 0s - loss: 0.9452 - accuracy: 0.6780\n",
      "Epoch 136: saving model to model/keypoint_classifier\\keypoint_classifier.hdf5\n",
      "42/42 [==============================] - 0s 3ms/step - loss: 0.9237 - accuracy: 0.6850 - val_loss: 0.5387 - val_accuracy: 0.9006\n",
      "Epoch 137/1000\n",
      "40/42 [===========================>..] - ETA: 0s - loss: 0.9063 - accuracy: 0.6895\n",
      "Epoch 137: saving model to model/keypoint_classifier\\keypoint_classifier.hdf5\n",
      "42/42 [==============================] - 0s 3ms/step - loss: 0.9085 - accuracy: 0.6878 - val_loss: 0.5576 - val_accuracy: 0.8939\n",
      "Epoch 138/1000\n",
      "40/42 [===========================>..] - ETA: 0s - loss: 0.9322 - accuracy: 0.6809\n",
      "Epoch 138: saving model to model/keypoint_classifier\\keypoint_classifier.hdf5\n",
      "42/42 [==============================] - 0s 3ms/step - loss: 0.9358 - accuracy: 0.6798 - val_loss: 0.5669 - val_accuracy: 0.8933\n",
      "Epoch 139/1000\n",
      "40/42 [===========================>..] - ETA: 0s - loss: 0.9201 - accuracy: 0.6855\n",
      "Epoch 139: saving model to model/keypoint_classifier\\keypoint_classifier.hdf5\n",
      "42/42 [==============================] - 0s 3ms/step - loss: 0.9189 - accuracy: 0.6863 - val_loss: 0.5597 - val_accuracy: 0.8928\n",
      "Epoch 140/1000\n",
      "32/42 [=====================>........] - ETA: 0s - loss: 0.9214 - accuracy: 0.6807\n",
      "Epoch 140: saving model to model/keypoint_classifier\\keypoint_classifier.hdf5\n",
      "42/42 [==============================] - 0s 3ms/step - loss: 0.9277 - accuracy: 0.6811 - val_loss: 0.5609 - val_accuracy: 0.8939\n",
      "Epoch 141/1000\n",
      "33/42 [======================>.......] - ETA: 0s - loss: 0.9026 - accuracy: 0.7027\n",
      "Epoch 141: saving model to model/keypoint_classifier\\keypoint_classifier.hdf5\n",
      "42/42 [==============================] - 0s 3ms/step - loss: 0.9052 - accuracy: 0.6998 - val_loss: 0.5582 - val_accuracy: 0.8939\n",
      "Epoch 142/1000\n",
      "29/42 [===================>..........] - ETA: 0s - loss: 0.9211 - accuracy: 0.6910\n",
      "Epoch 142: saving model to model/keypoint_classifier\\keypoint_classifier.hdf5\n",
      "42/42 [==============================] - 0s 3ms/step - loss: 0.9315 - accuracy: 0.6899 - val_loss: 0.5623 - val_accuracy: 0.8905\n",
      "Epoch 143/1000\n",
      "29/42 [===================>..........] - ETA: 0s - loss: 0.9445 - accuracy: 0.6735\n",
      "Epoch 143: saving model to model/keypoint_classifier\\keypoint_classifier.hdf5\n",
      "42/42 [==============================] - 0s 3ms/step - loss: 0.9384 - accuracy: 0.6764 - val_loss: 0.5503 - val_accuracy: 0.9017\n",
      "Epoch 144/1000\n",
      "22/42 [==============>...............] - ETA: 0s - loss: 0.9013 - accuracy: 0.7045\n",
      "Epoch 144: saving model to model/keypoint_classifier\\keypoint_classifier.hdf5\n",
      "42/42 [==============================] - 0s 3ms/step - loss: 0.8955 - accuracy: 0.7039 - val_loss: 0.5481 - val_accuracy: 0.8967\n",
      "Epoch 145/1000\n",
      "40/42 [===========================>..] - ETA: 0s - loss: 0.9351 - accuracy: 0.6768\n",
      "Epoch 145: saving model to model/keypoint_classifier\\keypoint_classifier.hdf5\n",
      "42/42 [==============================] - 0s 2ms/step - loss: 0.9324 - accuracy: 0.6773 - val_loss: 0.5601 - val_accuracy: 0.8967\n",
      "Epoch 146/1000\n",
      "38/42 [==========================>...] - ETA: 0s - loss: 0.9116 - accuracy: 0.6908\n",
      "Epoch 146: saving model to model/keypoint_classifier\\keypoint_classifier.hdf5\n",
      "42/42 [==============================] - 0s 3ms/step - loss: 0.9087 - accuracy: 0.6908 - val_loss: 0.5554 - val_accuracy: 0.8961\n",
      "Epoch 147/1000\n",
      "38/42 [==========================>...] - ETA: 0s - loss: 0.9144 - accuracy: 0.6982\n",
      "Epoch 147: saving model to model/keypoint_classifier\\keypoint_classifier.hdf5\n",
      "42/42 [==============================] - 0s 3ms/step - loss: 0.9107 - accuracy: 0.6974 - val_loss: 0.5454 - val_accuracy: 0.9029\n",
      "Epoch 148/1000\n",
      "27/42 [==================>...........] - ETA: 0s - loss: 0.8974 - accuracy: 0.6965\n",
      "Epoch 148: saving model to model/keypoint_classifier\\keypoint_classifier.hdf5\n",
      "42/42 [==============================] - 0s 3ms/step - loss: 0.9132 - accuracy: 0.6906 - val_loss: 0.5404 - val_accuracy: 0.9040\n",
      "Epoch 148: early stopping\n"
     ]
    },
    {
     "data": {
      "text/plain": [
       "<keras.callbacks.History at 0x24888342160>"
      ]
     },
     "execution_count": 11,
     "metadata": {},
     "output_type": "execute_result"
    }
   ],
   "source": [
    "model.fit(\n",
    "    X_train,\n",
    "    y_train,\n",
    "    epochs=1000,\n",
    "    batch_size=128,\n",
    "    validation_data=(X_test, y_test),\n",
    "    callbacks=[cp_callback, es_callback]\n",
    ")"
   ]
  },
  {
   "cell_type": "code",
   "execution_count": 12,
   "metadata": {},
   "outputs": [
    {
     "name": "stdout",
     "output_type": "stream",
     "text": [
      "14/14 [==============================] - 0s 1ms/step - loss: 0.5404 - accuracy: 0.9040\n"
     ]
    }
   ],
   "source": [
    "# モデル評価\n",
    "val_loss, val_acc = model.evaluate(X_test, y_test, batch_size=128)"
   ]
  },
  {
   "cell_type": "code",
   "execution_count": 13,
   "metadata": {},
   "outputs": [],
   "source": [
    "# 保存したモデルのロード\n",
    "model = tf.keras.models.load_model(model_save_path)"
   ]
  },
  {
   "cell_type": "code",
   "execution_count": 14,
   "metadata": {},
   "outputs": [
    {
     "name": "stdout",
     "output_type": "stream",
     "text": [
      "1/1 [==============================] - 0s 102ms/step\n",
      "[1.5977426e-01 3.5585035e-03 4.0494036e-03 1.1115404e-03 4.6912436e-03\n",
      " 3.6007622e-03 8.1319052e-01 4.7364454e-03 4.6055638e-03 6.8186957e-04]\n",
      "6\n"
     ]
    }
   ],
   "source": [
    "# 推論テスト\n",
    "predict_result = model.predict(np.array([X_test[0]]))\n",
    "print(np.squeeze(predict_result))\n",
    "print(np.argmax(np.squeeze(predict_result)))"
   ]
  },
  {
   "cell_type": "markdown",
   "metadata": {},
   "source": [
    "# 混同行列"
   ]
  },
  {
   "cell_type": "code",
   "execution_count": 15,
   "metadata": {},
   "outputs": [
    {
     "name": "stdout",
     "output_type": "stream",
     "text": [
      "56/56 [==============================] - 0s 1ms/step\n"
     ]
    },
    {
     "data": {
      "image/png": "[encoded data removed]",
      "text/plain": [
       "<Figure size 700x600 with 2 Axes>"
      ]
     },
     "metadata": {},
     "output_type": "display_data"
    },
    {
     "name": "stdout",
     "output_type": "stream",
     "text": [
      "Classification Report\n",
      "              precision    recall  f1-score   support\n",
      "\n",
      "           0       0.99      0.79      0.88       167\n",
      "           1       0.87      0.94      0.90       150\n",
      "           2       0.89      0.91      0.90       186\n",
      "           3       0.90      0.88      0.89       138\n",
      "           4       0.91      0.88      0.90       180\n",
      "           5       0.91      0.90      0.91       181\n",
      "           6       0.74      0.96      0.84       126\n",
      "           7       0.92      0.95      0.94       172\n",
      "           8       0.98      0.93      0.95       268\n",
      "           9       0.91      0.90      0.90       213\n",
      "\n",
      "    accuracy                           0.90      1781\n",
      "   macro avg       0.90      0.90      0.90      1781\n",
      "weighted avg       0.91      0.90      0.90      1781\n",
      "\n"
     ]
    }
   ],
   "source": [
    "import pandas as pd\n",
    "import seaborn as sns\n",
    "import matplotlib.pyplot as plt\n",
    "from sklearn.metrics import confusion_matrix, classification_report\n",
    "\n",
    "def print_confusion_matrix(y_true, y_pred, report=True):\n",
    "    labels = sorted(list(set(y_true)))\n",
    "    cmx_data = confusion_matrix(y_true, y_pred, labels=labels)\n",
    "    \n",
    "    df_cmx = pd.DataFrame(cmx_data, index=labels, columns=labels)\n",
    " \n",
    "    fig, ax = plt.subplots(figsize=(7, 6))\n",
    "    sns.heatmap(df_cmx, annot=True, fmt='g' ,square=False)\n",
    "    ax.set_ylim(len(set(y_true)), 0)\n",
    "    plt.show()\n",
    "    \n",
    "    if report:\n",
    "        print('Classification Report')\n",
    "        print(classification_report(y_test, y_pred))\n",
    "\n",
    "Y_pred = model.predict(X_test)\n",
    "y_pred = np.argmax(Y_pred, axis=1)\n",
    "\n",
    "print_confusion_matrix(y_test, y_pred)"
   ]
  },
  {
   "cell_type": "markdown",
   "metadata": {},
   "source": [
    "# Tensorflow-Lite用のモデルへ変換"
   ]
  },
  {
   "cell_type": "code",
   "execution_count": 16,
   "metadata": {},
   "outputs": [],
   "source": [
    "# 推論専用のモデルとして保存\n",
    "model.save(model_save_path, include_optimizer=False)"
   ]
  },
  {
   "cell_type": "code",
   "execution_count": 17,
   "metadata": {},
   "outputs": [
    {
     "name": "stdout",
     "output_type": "stream",
     "text": [
      "INFO:tensorflow:Assets written to: C:\\Users\\HP\\AppData\\Local\\Temp\\tmp9ehc17_k\\assets\n"
     ]
    },
    {
     "data": {
      "text/plain": [
       "6808"
      ]
     },
     "execution_count": 17,
     "metadata": {},
     "output_type": "execute_result"
    }
   ],
   "source": [
    "# モデルを変換(量子化)\n",
    "tflite_save_path = 'model/keypoint_classifier/keypoint_classifier.tflite'\n",
    "\n",
    "converter = tf.lite.TFLiteConverter.from_keras_model(model)\n",
    "converter.optimizations = [tf.lite.Optimize.DEFAULT]\n",
    "tflite_quantized_model = converter.convert()\n",
    "\n",
    "open(tflite_save_path, 'wb').write(tflite_quantized_model)"
   ]
  },
  {
   "cell_type": "markdown",
   "metadata": {},
   "source": [
    "# 推論テスト"
   ]
  },
  {
   "cell_type": "code",
   "execution_count": 18,
   "metadata": {},
   "outputs": [],
   "source": [
    "interpreter = tf.lite.Interpreter(model_path=tflite_save_path)\n",
    "interpreter.allocate_tensors()"
   ]
  },
  {
   "cell_type": "code",
   "execution_count": 19,
   "metadata": {},
   "outputs": [],
   "source": [
    "# 入出力テンソルを取得\n",
    "input_details = interpreter.get_input_details()\n",
    "output_details = interpreter.get_output_details()"
   ]
  },
  {
   "cell_type": "code",
   "execution_count": 20,
   "metadata": {},
   "outputs": [],
   "source": [
    "interpreter.set_tensor(input_details[0]['index'], np.array([X_test[0]]))"
   ]
  },
  {
   "cell_type": "code",
   "execution_count": 21,
   "metadata": {
    "scrolled": true
   },
   "outputs": [
    {
     "name": "stdout",
     "output_type": "stream",
     "text": [
      "Wall time: 0 ns\n"
     ]
    }
   ],
   "source": [
    "%%time\n",
    "# 推論実施\n",
    "interpreter.invoke()\n",
    "tflite_results = interpreter.get_tensor(output_details[0]['index'])"
   ]
  },
  {
   "cell_type": "code",
   "execution_count": 22,
   "metadata": {},
   "outputs": [
    {
     "name": "stdout",
     "output_type": "stream",
     "text": [
      "[1.5977420e-01 3.5585044e-03 4.0494050e-03 1.1115401e-03 4.6912436e-03\n",
      " 3.6007648e-03 8.1319040e-01 4.7364491e-03 4.6055657e-03 6.8186969e-04]\n",
      "6\n"
     ]
    }
   ],
   "source": [
    "print(np.squeeze(tflite_results))\n",
    "print(np.argmax(np.squeeze(tflite_results)))"
   ]
  }
 ],
 "metadata": {
  "kernelspec": {
   "display_name": "Python 3 (ipykernel)",
   "language": "python",
   "name": "python3"
  },
  "language_info": {
   "codemirror_mode": {
    "name": "ipython",
    "version": 3
   },
   "file_extension": ".py",
   "mimetype": "text/x-python",
   "name": "python",
   "nbconvert_exporter": "python",
   "pygments_lexer": "ipython3",
   "version": "3.9.13"
  }
 },
 "nbformat": 4,
 "nbformat_minor": 4
}
